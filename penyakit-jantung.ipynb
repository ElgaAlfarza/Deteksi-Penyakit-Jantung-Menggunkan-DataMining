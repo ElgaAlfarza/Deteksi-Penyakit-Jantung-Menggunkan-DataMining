{
 "cells": [
  {
   "cell_type": "code",
   "execution_count": 41,
   "metadata": {},
   "outputs": [
    {
     "name": "stdout",
     "output_type": "stream",
     "text": [
      "Akurasi Data Training : 0.9240506329113924\n",
      "Akurasi Data Testing : 0.8333333333333334\n",
      "[1]\n",
      "Pasien Terkena Penyakit Jantung\n"
     ]
    },
    {
     "name": "stderr",
     "output_type": "stream",
     "text": [
      "/Library/Frameworks/Python.framework/Versions/3.12/lib/python3.12/site-packages/sklearn/base.py:493: UserWarning: X does not have valid feature names, but StandardScaler was fitted with feature names\n",
      "  warnings.warn(\n"
     ]
    }
   ],
   "source": [
    "import numpy as np\n",
    "import pandas as pd\n",
    "from sklearn.model_selection import train_test_split\n",
    "from sklearn.svm import SVC\n",
    "from sklearn.preprocessing import StandardScaler\n",
    "from sklearn.metrics import accuracy_score\n",
    "import pickle  # Import pickle untuk menyimpan model\n",
    "\n",
    "# Load dataset\n",
    "heart_data = pd.read_csv('heart_cleveland_upload.csv')\n",
    "\n",
    "# Split data into features and target\n",
    "X = heart_data.drop(columns='condition', axis=1)\n",
    "Y = heart_data['condition']\n",
    "\n",
    "# Normalisasi data\n",
    "scaler = StandardScaler()\n",
    "X_scaled = scaler.fit_transform(X)\n",
    "\n",
    "# Split data into training and testing sets\n",
    "X_train, X_test, Y_train, Y_test = train_test_split(X_scaled, Y, test_size=0.2, stratify=Y, random_state=2)\n",
    "\n",
    "# Model menggunakan SVC\n",
    "model = SVC(probability=True)  # Menggunakan probability=True untuk prediksi probabilitas\n",
    "model.fit(X_train, Y_train)\n",
    "\n",
    "# Evaluasi model\n",
    "X_train_prediction = model.predict(X_train)\n",
    "training_data_accuracy = accuracy_score(X_train_prediction, Y_train)\n",
    "print('Akurasi Data Training :', training_data_accuracy)\n",
    "\n",
    "X_test_prediction = model.predict(X_test)\n",
    "test_data_accuracy = accuracy_score(X_test_prediction, Y_test)\n",
    "print('Akurasi Data Testing :', test_data_accuracy)\n",
    "\n",
    "# Input data untuk prediksi\n",
    "input_data = (35,1,3,126,282,0,2,156,1,0,0,0,2)\n",
    "input_data_as_numpy_array = np.array(input_data).reshape(1, -1)\n",
    "input_data_scaled = scaler.transform(input_data_as_numpy_array)\n",
    "\n",
    "# Prediksi\n",
    "prediction = model.predict(input_data_scaled)\n",
    "print(prediction)\n",
    "\n",
    "if prediction[0] == 0:\n",
    "    print('Pasien Tidak Terkena Penyakit Jantung')\n",
    "else:\n",
    "    print('Pasien Terkena Penyakit Jantung')\n",
    "\n",
    "# Menyimpan model SVC\n",
    "filename = 'svc_model.sav'\n",
    "pickle.dump(model, open(filename, 'wb'))\n"
   ]
  }
 ],
 "metadata": {
  "kernelspec": {
   "display_name": "Python 3",
   "language": "python",
   "name": "python3"
  },
  "language_info": {
   "codemirror_mode": {
    "name": "ipython",
    "version": 3
   },
   "file_extension": ".py",
   "mimetype": "text/x-python",
   "name": "python",
   "nbconvert_exporter": "python",
   "pygments_lexer": "ipython3",
   "version": "3.12.6"
  }
 },
 "nbformat": 4,
 "nbformat_minor": 2
}
